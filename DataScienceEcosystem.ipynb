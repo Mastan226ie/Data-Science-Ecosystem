{
 "cells": [
  {
   "cell_type": "markdown",
   "id": "20de1597-69d8-4565-8e6f-4ef0e0aa05f8",
   "metadata": {},
   "source": [
    "# Data Science Tools and Ecosystem"
   ]
  },
  {
   "cell_type": "markdown",
   "id": "82c1740a-d890-4c15-80e4-b7dbd02db93c",
   "metadata": {},
   "source": [
    "## In this notebook, Data Science Tools and Ecosystem are summarized."
   ]
  },
  {
   "cell_type": "markdown",
   "id": "cfcec4ba-ba92-4e59-9b21-665957c0714e",
   "metadata": {},
   "source": [
    "**Some of the popular languages that Data Scientists use are:**\n",
    "1. Python\n",
    "2. R\n",
    "3. SQL\n",
    "4. julia\n",
    "5. Scala"
   ]
  },
  {
   "cell_type": "markdown",
   "id": "4318c72d-70b8-487a-8a52-04d72caa1c7c",
   "metadata": {},
   "source": [
    "**Some of the commonly used libraries used by Data Scientists include:**\n",
    "1. Numpy\n",
    "2. Pandas\n",
    "3. Polars\n",
    "4. Scikit learn (sklearn at present)\n",
    "5. Matplotlib\n",
    "6. Seaborn\n",
    "7. Keras\n",
    "8. Tensorflow"
   ]
  },
  {
   "cell_type": "markdown",
   "id": "01df52fe-496e-490b-9f40-d1a171ea81d5",
   "metadata": {},
   "source": [
    "| Data Science Tools |\n",
    "|--------------------|\n",
    "| Jupyter Notebook  |\n",
    "| RStudio           |\n",
    "| VS Code           |\n"
   ]
  },
  {
   "cell_type": "markdown",
   "id": "abdf2b15-7333-46e0-a334-a2eb31ee12e5",
   "metadata": {},
   "source": [
    "### Below are a few examples of evaluating arithmetic expressions in Python"
   ]
  },
  {
   "cell_type": "code",
   "execution_count": 4,
   "id": "b8acbe08-0d87-4505-b0c4-3cef0c579257",
   "metadata": {},
   "outputs": [
    {
     "data": {
      "text/plain": [
       "17"
      ]
     },
     "execution_count": 4,
     "metadata": {},
     "output_type": "execute_result"
    }
   ],
   "source": [
    "#This a simple arithmetic expression to mutiply then add integers\n",
    "(3*4)+5"
   ]
  },
  {
   "cell_type": "code",
   "execution_count": 8,
   "id": "0d208af1-ea5d-4ac8-8740-12c64c576bf0",
   "metadata": {},
   "outputs": [
    {
     "data": {
      "text/plain": [
       "3.3333333333333335"
      ]
     },
     "execution_count": 8,
     "metadata": {},
     "output_type": "execute_result"
    }
   ],
   "source": [
    "#his will convert 200 minutes to hours by diving by 60\n",
    "hourss = 200/60\n",
    "hourss"
   ]
  },
  {
   "cell_type": "markdown",
   "id": "e307be66-83c2-46b7-98a6-f67416748b26",
   "metadata": {},
   "source": [
    "**Objectives**\n",
    "- Data Sciene Libraries\n",
    "- Data Science tools\n",
    "- Popular Data Science Languages "
   ]
  },
  {
   "cell_type": "markdown",
   "id": "20a0c379-cef4-4b0f-ae73-e373b6da8c5e",
   "metadata": {},
   "source": [
    "## Author\n",
    "Venkata Mastan Mudigonda"
   ]
  },
  {
   "cell_type": "code",
   "execution_count": null,
   "id": "232fbbe8-61e6-4c14-8376-5baddc1d3c60",
   "metadata": {},
   "outputs": [],
   "source": []
  }
 ],
 "metadata": {
  "kernelspec": {
   "display_name": "Python 3 (ipykernel)",
   "language": "python",
   "name": "python3"
  },
  "language_info": {
   "codemirror_mode": {
    "name": "ipython",
    "version": 3
   },
   "file_extension": ".py",
   "mimetype": "text/x-python",
   "name": "python",
   "nbconvert_exporter": "python",
   "pygments_lexer": "ipython3",
   "version": "3.12.3"
  }
 },
 "nbformat": 4,
 "nbformat_minor": 5
}
